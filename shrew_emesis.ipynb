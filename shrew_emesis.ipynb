{
  "nbformat": 4,
  "nbformat_minor": 0,
  "metadata": {
    "accelerator": "GPU",
    "colab": {
      "name": "shrew_emesis.ipynb",
      "provenance": [],
      "collapsed_sections": [],
      "include_colab_link": true
    },
    "kernelspec": {
      "display_name": "Python 3",
      "name": "python3"
    }
  },
  "cells": [
    {
      "cell_type": "markdown",
      "metadata": {
        "id": "view-in-github",
        "colab_type": "text"
      },
      "source": [
        "<a href=\"https://colab.research.google.com/github/lilstarhunter/shrew_emesis/blob/main/shrew_emesis.ipynb\" target=\"_parent\"><img src=\"https://colab.research.google.com/assets/colab-badge.svg\" alt=\"Open In Colab\"/></a>"
      ]
    },
    {
      "cell_type": "code",
      "metadata": {
        "id": "q23BzhA6CXxu"
      },
      "source": [
        "# Check that Runtime is set t GPU\n",
        "# Install Dependencies\n",
        "!pip install deeplabcut"
      ],
      "execution_count": null,
      "outputs": []
    },
    {
      "cell_type": "code",
      "metadata": {
        "id": "TTcmJskoK0Ku"
      },
      "source": [
        "# Use TensorFlow 1.x:\n",
        "%tensorflow_version 1.x"
      ],
      "execution_count": 14,
      "outputs": []
    },
    {
      "cell_type": "code",
      "metadata": {
        "colab": {
          "base_uri": "https://localhost:8080/"
        },
        "id": "KS4Q4UkR9rgG",
        "outputId": "67ae3b7e-63ef-4d17-c125-4f21ec4dae2e"
      },
      "source": [
        "# Link Google Drive files\n",
        "\n",
        "from google.colab import drive\n",
        "drive.mount('/content/drive/')"
      ],
      "execution_count": 15,
      "outputs": [
        {
          "output_type": "stream",
          "name": "stdout",
          "text": [
            "Drive already mounted at /content/drive/; to attempt to forcibly remount, call drive.mount(\"/content/drive/\", force_remount=True).\n"
          ]
        }
      ]
    },
    {
      "cell_type": "code",
      "metadata": {
        "id": "oTwAcbq2-FZz"
      },
      "source": [
        "import deeplabcut"
      ],
      "execution_count": 16,
      "outputs": []
    },
    {
      "cell_type": "code",
      "metadata": {
        "id": "XvdK6s8HLMm1"
      },
      "source": [
        "import os\n",
        "os.environ[\"DLClight\"]=\"True\""
      ],
      "execution_count": 17,
      "outputs": []
    },
    {
      "cell_type": "code",
      "metadata": {
        "id": "D6c1336yK-uq"
      },
      "source": [
        "#  Assign project variables\n",
        "ProjectFolderName = 'vomitting-LMS-2021-10-19'\n",
        "VideoType = 'mp4' \n",
        "videofile_path = ['/content/drive/My Drive/Colab Notebooks/shrew_emesis/'+ProjectFolderName+'/videos/'] \n",
        "path_config_file = '/content/drive/My Drive/Colab Notebooks/shrew_emesis/'+ProjectFolderName+'/config.yaml'"
      ],
      "execution_count": 18,
      "outputs": []
    },
    {
      "cell_type": "code",
      "metadata": {
        "id": "To2G504_MtEP"
      },
      "source": [
        "# Create a training dataset\n",
        "deeplabcut.create_training_dataset(path_config_file, net_type='resnet_50', augmenter_type='imgaug')"
      ],
      "execution_count": null,
      "outputs": []
    },
    {
      "cell_type": "code",
      "metadata": {
        "colab": {
          "background_save": true
        },
        "id": "_pOvDq_2oEJW"
      },
      "source": [
        "# Training - Iteration 0\n",
        "shuffle = 1\n",
        "deeplabcut.train_network(path_config_file, shuffle=shuffle, displayiters=100,saveiters=1000, maxiters=10000, allow_growth=True)"
      ],
      "execution_count": null,
      "outputs": []
    },
    {
      "cell_type": "code",
      "metadata": {
        "id": "nv4zlbrnoEJg"
      },
      "source": [
        "%matplotlib notebook\n",
        "# Evaluate the model\n",
        "shuffle=1\n",
        "deeplabcut.evaluate_network(path_config_file,Shuffles=[shuffle], plotting=True)\n",
        "#plot a few scoremaps:\n",
        "# deeplabcut.extract_save_all_maps(path_config_file, shuffle=shuffle, Indices=[0,10,20])"
      ],
      "execution_count": null,
      "outputs": []
    },
    {
      "cell_type": "code",
      "metadata": {
        "colab": {
          "base_uri": "https://localhost:8080/",
          "height": 239
        },
        "id": "Y_LZiS_0oEJl",
        "outputId": "50a7e4c4-a185-4b4a-d239-4f2b9c17c8e1"
      },
      "source": [
        "# Analyze videos\n",
        "videofile_path = ['/content/drive/My Drive/Colab Notebooks/shrew_emesis/vomitting-LMS-2021-10-19/videos/nicotine_emesis_10.19.21_shrew3_short.mp4'] \n",
        "deeplabcut.analyze_videos(path_config_file,videofile_path, videotype=VideoType)"
      ],
      "execution_count": 21,
      "outputs": [
        {
          "output_type": "stream",
          "name": "stdout",
          "text": [
            "Using snapshot-10000 for model /content/drive/My Drive/Colab Notebooks/shrew_emesis/vomitting-LMS-2021-10-19/dlc-models/iteration-0/vomittingOct19-trainset95shuffle1\n",
            "Starting to analyze %  /content/drive/My Drive/Colab Notebooks/shrew_emesis/vomitting-LMS-2021-10-19/videos/nicotine_emesis_10.19.21_shrew3_short.mp4\n",
            "/content/drive/My Drive/Colab Notebooks/shrew_emesis/vomitting-LMS-2021-10-19/videos  already exists!\n",
            "Loading  /content/drive/My Drive/Colab Notebooks/shrew_emesis/vomitting-LMS-2021-10-19/videos/nicotine_emesis_10.19.21_shrew3_short.mp4\n",
            "Duration of video [s]:  26.78 , recorded with  59.94 fps!\n",
            "Overall # of frames:  1605  found with (before cropping) frame dimensions:  748 450\n",
            "Starting to extract posture\n"
          ]
        },
        {
          "output_type": "stream",
          "name": "stderr",
          "text": [
            "1616it [01:45, 15.39it/s]                          "
          ]
        },
        {
          "output_type": "stream",
          "name": "stdout",
          "text": [
            "Saving results in /content/drive/My Drive/Colab Notebooks/shrew_emesis/vomitting-LMS-2021-10-19/videos...\n",
            "The videos are analyzed. Now your research can truly start! \n",
            " You can create labeled videos with 'create_labeled_video'\n",
            "If the tracking is not satisfactory for some videos, consider expanding the training set. You can use the function 'extract_outlier_frames' to extract a few representative outlier frames.\n"
          ]
        },
        {
          "output_type": "stream",
          "name": "stderr",
          "text": [
            "\n"
          ]
        },
        {
          "output_type": "execute_result",
          "data": {
            "application/vnd.google.colaboratory.intrinsic+json": {
              "type": "string"
            },
            "text/plain": [
              "'DLC_resnet50_vomittingOct19shuffle1_10000'"
            ]
          },
          "metadata": {},
          "execution_count": 21
        }
      ]
    },
    {
      "cell_type": "code",
      "metadata": {
        "id": "sWJ6UnPHShgE",
        "colab": {
          "base_uri": "https://localhost:8080/"
        },
        "outputId": "3f106cd4-4e1b-4cf8-c887-ef45d8f04daf"
      },
      "source": [
        "videofile_path = ['/content/drive/My Drive/Colab Notebooks/shrew_emesis/vomitting-LMS-2021-10-19/videos/nicotine_emesis_10.19.21_shrew3_short.mp4'] \n",
        "deeplabcut.create_labeled_video(path_config_file,videofile_path, videotype=\"mp4\")"
      ],
      "execution_count": 23,
      "outputs": [
        {
          "output_type": "stream",
          "name": "stdout",
          "text": [
            "/content/drive/My Drive/Colab Notebooks/shrew_emesis/vomitting-LMS-2021-10-19/videos  already exists!\n",
            "Starting to process video: /content/drive/My Drive/Colab Notebooks/shrew_emesis/vomitting-LMS-2021-10-19/videos/nicotine_emesis_10.19.21_shrew3_short.mp4\n",
            "Labeled video nicotine_emesis_10.19.21_shrew3_short already created.\n"
          ]
        }
      ]
    },
    {
      "cell_type": "code",
      "metadata": {
        "id": "65mWwX5bTc5C"
      },
      "source": [
        "## Assess pose estimation (may need to add more data and re-train)\n",
        "deeplabcut.create_video_with_all_detections(path_config_file, Specific_videofile)"
      ],
      "execution_count": null,
      "outputs": []
    },
    {
      "cell_type": "code",
      "metadata": {
        "id": "zIvXM7TXIs-U"
      },
      "source": [
        "#Check and edit:\n",
        "numAnimals = 1 #how many animals do you expect to find?\n",
        "tracktype= 'ellipse' #box, skeleton, ellipse -- ellipse is recommended.\n",
        "\n",
        "#Optional: imagine you tracked a point that is not useful for assembly, \n",
        "#like a tail tip that is far from the body, consider dropping it for this step (it's still used later)!\n",
        "#To drop it, uncomment the next line TWO lines and add your parts(s):\n",
        "bodypart= 'midchest, midhind'\n",
        "deeplabcut.convert_detections2tracklets(path_config_file, videofile_path, videotype=VideoType, \n",
        "                                        shuffle=shuffle, track_method=tracktype, overwrite=True, ignore_bodyparts=[bodypart])\n",
        "\n",
        "#OR don't drop, just click RUN:\n",
        "# deeplabcut.convert_detections2tracklets(path_config_file, videofile_path, videotype=VideoType, \n",
        "                                        # shuffle=shuffle, track_method=tracktype, overwrite=True)\n",
        "\n",
        "deeplabcut.stitch_tracklets(path_config_file, videofile_path, track_method=tracktype, n_tracks=numAnimals)"
      ],
      "execution_count": null,
      "outputs": []
    },
    {
      "cell_type": "code",
      "metadata": {
        "colab": {
          "base_uri": "https://localhost:8080/"
        },
        "id": "a6izVWX8sdzL",
        "outputId": "70f3305c-670a-4fd2-bbf8-faf380eb8e95"
      },
      "source": [
        "# filter the data to remove any small jitter\n",
        "deeplabcut.filterpredictions(path_config_file, \n",
        "                                 videofile_path, \n",
        "                                 videotype=VideoType)\n",
        "                                #  track_method = tracktype)"
      ],
      "execution_count": null,
      "outputs": [
        {
          "name": "stdout",
          "output_type": "stream",
          "text": [
            "Analyzing all the videos in the directory...\n",
            "Filtering with median model /content/drive/My Drive/ShrewTracking-LaurenStein-2021-10-06/videos/MVI_0445.MP4\n",
            "Saving filtered csv poses!\n",
            "Filtering with median model /content/drive/My Drive/ShrewTracking-LaurenStein-2021-10-06/videos/MVI_0444.MP4\n",
            "Saving filtered csv poses!\n"
          ]
        }
      ]
    },
    {
      "cell_type": "code",
      "metadata": {
        "colab": {
          "base_uri": "https://localhost:8080/"
        },
        "id": "gX21zZbXoEKJ",
        "outputId": "ad82f749-5694-46dd-8c40-251c96e28d48"
      },
      "source": [
        "#Create plot trajectory\n",
        "deeplabcut.plot_trajectories(path_config_file, videofile_path, videotype=VideoType)"
      ],
      "execution_count": null,
      "outputs": [
        {
          "name": "stdout",
          "output_type": "stream",
          "text": [
            "Analyzing all the videos in the directory...\n",
            "Loading  /content/drive/My Drive/ShrewTracking-LaurenStein-2021-10-06/videos/MVI_0444.MP4 and data.\n",
            "/content/drive/My Drive/ShrewTracking-LaurenStein-2021-10-06/videos/plot-poses/MVI_0444  already exists!\n",
            "Loading  /content/drive/My Drive/ShrewTracking-LaurenStein-2021-10-06/videos/MVI_0445.MP4 and data.\n",
            "/content/drive/My Drive/ShrewTracking-LaurenStein-2021-10-06/videos/plot-poses/MVI_0445  already exists!\n",
            "Plots created! Please check the directory \"plot-poses\" within the video directory\n"
          ]
        }
      ]
    },
    {
      "cell_type": "code",
      "metadata": {
        "colab": {
          "base_uri": "https://localhost:8080/"
        },
        "id": "6aDF7Q7KoEKE",
        "outputId": "bd46e355-314b-49f7-a626-04b151c198de"
      },
      "source": [
        "deeplabcut.create_labeled_video(path_config_file,\n",
        "                                videofile_path, \n",
        "                                shuffle=shuffle, \n",
        "                                # color_by=\"individual\",\n",
        "                                videotype=VideoType, \n",
        "                                save_frames=False,\n",
        "                                filtered=True) \n",
        "                                # track_method = tracktype)"
      ],
      "execution_count": null,
      "outputs": [
        {
          "name": "stdout",
          "output_type": "stream",
          "text": [
            "Analyzing all the videos in the directory...\n",
            "/content/drive/My Drive/ShrewTracking-LaurenStein-2021-10-06/videos  already exists!\n",
            "/content/drive/My Drive/ShrewTracking-LaurenStein-2021-10-06/videos  already exists!\n",
            "Starting to process video: /content/drive/My Drive/ShrewTracking-LaurenStein-2021-10-06/videos/MVI_0444.MP4\n",
            "Starting to process video: /content/drive/My Drive/ShrewTracking-LaurenStein-2021-10-06/videos/MVI_0445.MP4\n",
            "Loading /content/drive/My Drive/ShrewTracking-LaurenStein-2021-10-06/videos/MVI_0445.MP4 and data.\n",
            "Loading /content/drive/My Drive/ShrewTracking-LaurenStein-2021-10-06/videos/MVI_0444.MP4 and data.\n",
            "Duration of video [s]: 78.08, recorded with 29.97 fps!\n",
            "Overall # of frames: 2340 with cropped frame dimensions: 1920 1080\n",
            "Generating frames and creating video.\n"
          ]
        },
        {
          "name": "stderr",
          "output_type": "stream",
          "text": [
            "  1%|          | 21/2340 [00:00<01:19, 29.28it/s]"
          ]
        },
        {
          "name": "stdout",
          "output_type": "stream",
          "text": [
            "Duration of video [s]: 72.07, recorded with 29.97 fps!\n",
            "Overall # of frames: 2160 with cropped frame dimensions: 1920 1080\n",
            "Generating frames and creating video.\n"
          ]
        },
        {
          "name": "stderr",
          "output_type": "stream",
          "text": [
            "100%|██████████| 2160/2160 [02:16<00:00, 15.77it/s]\n",
            "100%|██████████| 2340/2340 [02:22<00:00, 16.46it/s]\n"
          ]
        }
      ]
    },
    {
      "cell_type": "code",
      "metadata": {
        "id": "IBu-Vvpr4Jle"
      },
      "source": [
        ""
      ],
      "execution_count": null,
      "outputs": []
    }
  ]
}